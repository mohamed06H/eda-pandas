{
 "cells": [
  {
   "cell_type": "markdown",
   "id": "91cd6687",
   "metadata": {},
   "source": [
    "## Netflix Dataset\n",
    "\n",
    "Contains information about TV Shows and Movies available on Netflix till 2021.\n",
    "\n",
    "It is available on Kaggle for free.\n",
    "\n",
    "We will analyze this dataset using Pandas dataframe.\n"
   ]
  },
  {
   "cell_type": "markdown",
   "id": "3dd32b6c",
   "metadata": {},
   "source": [
    "Commands we'll use  \n",
    "\n",
    "* head() - It shows the first N rows in the data (by default, N=5).\n",
    "* tail () - It shows the last N rows in the data (by default, N=5).\n",
    "* shape - It shows the total no. of rows and no. of columns of the dataframe.\n",
    "* size - To show No. of total values(elements) in the dataset.\n",
    "* columns - To show each Column Name.\n",
    "* dtypes - To show the data-type of each column.\n",
    "* info() - To show indexes, columns, data-types of each column, memory at once.\n",
    "* value_counts - In a column, it shows all the unique values with their count. It can be applied on a single column only.\n",
    "* unique() - It shows the all unique values of the series.\n",
    "* nunique() - It shows the total no. of unique values in the series.\n",
    "* duplicated( ) - To check row wise and detect the Duplicate rows.\n",
    "* isnull( ) - To show where Null value is present.\n",
    "* dropna( ) - It drops the rows that contains all missing values.\n",
    "* isin( ) - To show all records including particular elements.\n",
    "* str.contains( ) - To get all records that contains a given string.\n",
    "* str.split( ) - It splits a column's string into different columns.\n",
    "* to_datetime( ) - Converts the data-type of Date-Time Column into datetime[ns] datatype.\n",
    "* dt.year.value_counts( ) - It counts the occurrence of all individual years in Time column.\n",
    "* groupby( ) - Groupby is used to split the data into groups based on some criteria.\n",
    "* sns.countplot(df['Col_name']) - To show the count of all unique values of any column in the form of bar graph.\n",
    "* max( ), min( ) - It shows the maximum/minimum value of the series.\n",
    "* mean( ) - It shows the mean value of the series."
   ]
  },
  {
   "cell_type": "markdown",
   "id": "7e7a7a9b",
   "metadata": {},
   "source": [
    "## Read csv to dataframe\n"
   ]
  },
  {
   "cell_type": "code",
   "execution_count": 1,
   "id": "d6210198",
   "metadata": {
    "scrolled": true
   },
   "outputs": [],
   "source": [
    "import pandas as pd\n",
    "df = pd.read_csv(\"8. Netflix Dataset.csv\")"
   ]
  },
  {
   "cell_type": "code",
   "execution_count": 2,
   "id": "40c385a6",
   "metadata": {},
   "outputs": [
    {
     "data": {
      "text/html": [
       "<div>\n",
       "<style scoped>\n",
       "    .dataframe tbody tr th:only-of-type {\n",
       "        vertical-align: middle;\n",
       "    }\n",
       "\n",
       "    .dataframe tbody tr th {\n",
       "        vertical-align: top;\n",
       "    }\n",
       "\n",
       "    .dataframe thead th {\n",
       "        text-align: right;\n",
       "    }\n",
       "</style>\n",
       "<table border=\"1\" class=\"dataframe\">\n",
       "  <thead>\n",
       "    <tr style=\"text-align: right;\">\n",
       "      <th></th>\n",
       "      <th>Show_Id</th>\n",
       "      <th>Category</th>\n",
       "      <th>Title</th>\n",
       "      <th>Director</th>\n",
       "      <th>Cast</th>\n",
       "      <th>Country</th>\n",
       "      <th>Release_Date</th>\n",
       "      <th>Rating</th>\n",
       "      <th>Duration</th>\n",
       "      <th>Type</th>\n",
       "      <th>Description</th>\n",
       "    </tr>\n",
       "  </thead>\n",
       "  <tbody>\n",
       "    <tr>\n",
       "      <th>0</th>\n",
       "      <td>s1</td>\n",
       "      <td>TV Show</td>\n",
       "      <td>3%</td>\n",
       "      <td>NaN</td>\n",
       "      <td>João Miguel, Bianca Comparato, Michel Gomes, R...</td>\n",
       "      <td>Brazil</td>\n",
       "      <td>August 14, 2020</td>\n",
       "      <td>TV-MA</td>\n",
       "      <td>4 Seasons</td>\n",
       "      <td>International TV Shows, TV Dramas, TV Sci-Fi &amp;...</td>\n",
       "      <td>In a future where the elite inhabit an island ...</td>\n",
       "    </tr>\n",
       "    <tr>\n",
       "      <th>1</th>\n",
       "      <td>s2</td>\n",
       "      <td>Movie</td>\n",
       "      <td>07:19</td>\n",
       "      <td>Jorge Michel Grau</td>\n",
       "      <td>Demián Bichir, Héctor Bonilla, Oscar Serrano, ...</td>\n",
       "      <td>Mexico</td>\n",
       "      <td>December 23, 2016</td>\n",
       "      <td>TV-MA</td>\n",
       "      <td>93 min</td>\n",
       "      <td>Dramas, International Movies</td>\n",
       "      <td>After a devastating earthquake hits Mexico Cit...</td>\n",
       "    </tr>\n",
       "    <tr>\n",
       "      <th>2</th>\n",
       "      <td>s3</td>\n",
       "      <td>Movie</td>\n",
       "      <td>23:59</td>\n",
       "      <td>Gilbert Chan</td>\n",
       "      <td>Tedd Chan, Stella Chung, Henley Hii, Lawrence ...</td>\n",
       "      <td>Singapore</td>\n",
       "      <td>December 20, 2018</td>\n",
       "      <td>R</td>\n",
       "      <td>78 min</td>\n",
       "      <td>Horror Movies, International Movies</td>\n",
       "      <td>When an army recruit is found dead, his fellow...</td>\n",
       "    </tr>\n",
       "  </tbody>\n",
       "</table>\n",
       "</div>"
      ],
      "text/plain": [
       "  Show_Id Category  Title           Director  \\\n",
       "0      s1  TV Show     3%                NaN   \n",
       "1      s2    Movie  07:19  Jorge Michel Grau   \n",
       "2      s3    Movie  23:59       Gilbert Chan   \n",
       "\n",
       "                                                Cast    Country  \\\n",
       "0  João Miguel, Bianca Comparato, Michel Gomes, R...     Brazil   \n",
       "1  Demián Bichir, Héctor Bonilla, Oscar Serrano, ...     Mexico   \n",
       "2  Tedd Chan, Stella Chung, Henley Hii, Lawrence ...  Singapore   \n",
       "\n",
       "        Release_Date Rating   Duration  \\\n",
       "0    August 14, 2020  TV-MA  4 Seasons   \n",
       "1  December 23, 2016  TV-MA     93 min   \n",
       "2  December 20, 2018      R     78 min   \n",
       "\n",
       "                                                Type  \\\n",
       "0  International TV Shows, TV Dramas, TV Sci-Fi &...   \n",
       "1                       Dramas, International Movies   \n",
       "2                Horror Movies, International Movies   \n",
       "\n",
       "                                         Description  \n",
       "0  In a future where the elite inhabit an island ...  \n",
       "1  After a devastating earthquake hits Mexico Cit...  \n",
       "2  When an army recruit is found dead, his fellow...  "
      ]
     },
     "execution_count": 2,
     "metadata": {},
     "output_type": "execute_result"
    }
   ],
   "source": [
    "df.head(3)"
   ]
  },
  {
   "cell_type": "code",
   "execution_count": 7,
   "id": "226d1211",
   "metadata": {
    "scrolled": true
   },
   "outputs": [
    {
     "data": {
      "text/plain": [
       "(7789, 11)"
      ]
     },
     "execution_count": 7,
     "metadata": {},
     "output_type": "execute_result"
    }
   ],
   "source": [
    "df.shape"
   ]
  },
  {
   "cell_type": "code",
   "execution_count": 4,
   "id": "9176051b",
   "metadata": {},
   "outputs": [
    {
     "data": {
      "text/plain": [
       "Show_Id            0\n",
       "Category           0\n",
       "Title              0\n",
       "Director        2388\n",
       "Cast             718\n",
       "Country          507\n",
       "Release_Date      10\n",
       "Rating             7\n",
       "Duration           0\n",
       "Type               0\n",
       "Description        0\n",
       "dtype: int64"
      ]
     },
     "execution_count": 4,
     "metadata": {},
     "output_type": "execute_result"
    }
   ],
   "source": [
    "df.isnull().sum()"
   ]
  },
  {
   "cell_type": "markdown",
   "id": "5d90900d",
   "metadata": {},
   "source": [
    "### Task. 1) Is there any Duplicate Record in this dataset ? If yes, then remove the duplicate records."
   ]
  },
  {
   "cell_type": "code",
   "execution_count": null,
   "id": "b2a3c0d4",
   "metadata": {},
   "outputs": [],
   "source": []
  },
  {
   "cell_type": "markdown",
   "id": "cc2ededb",
   "metadata": {},
   "source": [
    "### Task. 2) Is there any Null Value present in any column ? Show with Heat-map."
   ]
  },
  {
   "cell_type": "code",
   "execution_count": null,
   "id": "72ce70a4",
   "metadata": {},
   "outputs": [],
   "source": []
  },
  {
   "cell_type": "markdown",
   "id": "050a9592",
   "metadata": {},
   "source": [
    "### Q. 1) For 'House of Cards', what is the Show Id and Who is the Director of this show ?"
   ]
  },
  {
   "cell_type": "code",
   "execution_count": null,
   "id": "3bc85605",
   "metadata": {},
   "outputs": [],
   "source": []
  },
  {
   "cell_type": "markdown",
   "id": "d04bcf18",
   "metadata": {},
   "source": [
    "### Q. 2) In which year the highest number of the TV Shows & Movies were released ? Show with Bar Graph."
   ]
  },
  {
   "cell_type": "code",
   "execution_count": null,
   "id": "8856e72b",
   "metadata": {},
   "outputs": [],
   "source": []
  },
  {
   "cell_type": "markdown",
   "id": "af8c4075",
   "metadata": {},
   "source": [
    "### Q. 3) How many Movies & TV Shows are in the dataset ? Show with Bar Graph."
   ]
  },
  {
   "cell_type": "code",
   "execution_count": null,
   "id": "a0eb13d5",
   "metadata": {
    "scrolled": true
   },
   "outputs": [],
   "source": []
  },
  {
   "cell_type": "markdown",
   "id": "021eb3e3",
   "metadata": {},
   "source": [
    "### Q. 4) Show all the Movies that were released in year 2000."
   ]
  },
  {
   "cell_type": "code",
   "execution_count": null,
   "id": "a0e42658",
   "metadata": {},
   "outputs": [],
   "source": []
  },
  {
   "cell_type": "markdown",
   "id": "a0c45240",
   "metadata": {},
   "source": [
    "### Q. 5) Show only the Titles of all TV Shows that were released in India only."
   ]
  },
  {
   "cell_type": "code",
   "execution_count": null,
   "id": "9339f04d",
   "metadata": {},
   "outputs": [],
   "source": []
  },
  {
   "cell_type": "markdown",
   "id": "33bf6b81",
   "metadata": {},
   "source": [
    "### Q. 6) Show Top 10 Directors, who gave the highest number of TV Shows & Movies to Netflix ?"
   ]
  },
  {
   "cell_type": "code",
   "execution_count": null,
   "id": "8532f9a5",
   "metadata": {},
   "outputs": [],
   "source": []
  },
  {
   "cell_type": "markdown",
   "id": "27a01955",
   "metadata": {},
   "source": [
    "### Q. 7) Show all the Records, where \"Category is Movie and Type is Comedies\" or \"Country is United Kingdom\"."
   ]
  },
  {
   "cell_type": "code",
   "execution_count": null,
   "id": "51311018",
   "metadata": {},
   "outputs": [],
   "source": []
  },
  {
   "cell_type": "markdown",
   "id": "6d474f7f",
   "metadata": {},
   "source": [
    "### Q. 8) In how many movies/shows, Tom Cruise was cast ?"
   ]
  },
  {
   "cell_type": "code",
   "execution_count": null,
   "id": "343ed369",
   "metadata": {},
   "outputs": [],
   "source": []
  },
  {
   "cell_type": "markdown",
   "id": "696767a5",
   "metadata": {},
   "source": [
    "### Q. 9) What are the different Ratings defined by Netflix ?"
   ]
  },
  {
   "cell_type": "code",
   "execution_count": null,
   "id": "326c4e73",
   "metadata": {},
   "outputs": [],
   "source": []
  },
  {
   "cell_type": "markdown",
   "id": "e101bcf5",
   "metadata": {},
   "source": [
    "### Q. 9.1) How many Movies got the 'TV-14' rating, in Canada ?"
   ]
  },
  {
   "cell_type": "code",
   "execution_count": null,
   "id": "53ba9005",
   "metadata": {},
   "outputs": [],
   "source": []
  },
  {
   "cell_type": "markdown",
   "id": "068d439a",
   "metadata": {},
   "source": [
    "### Q. 9.2) How many TV Shows got the 'R' rating, after year 2018 ?"
   ]
  },
  {
   "cell_type": "code",
   "execution_count": null,
   "id": "31ae345a",
   "metadata": {},
   "outputs": [],
   "source": []
  },
  {
   "cell_type": "markdown",
   "id": "652af8e7",
   "metadata": {},
   "source": [
    "### Q. 10) What is the maximum duration of a Movie/Show on Netflix ?"
   ]
  },
  {
   "cell_type": "code",
   "execution_count": null,
   "id": "90959933",
   "metadata": {},
   "outputs": [],
   "source": []
  },
  {
   "cell_type": "markdown",
   "id": "4b1c759f",
   "metadata": {},
   "source": [
    "### Q. 11) Which individual country has the Highest No. of TV Shows ?"
   ]
  },
  {
   "cell_type": "code",
   "execution_count": null,
   "id": "911ac963",
   "metadata": {},
   "outputs": [],
   "source": []
  },
  {
   "cell_type": "markdown",
   "id": "07b38bd7",
   "metadata": {},
   "source": [
    "### Q. 12) How can we sort the dataset by Year ?"
   ]
  },
  {
   "cell_type": "code",
   "execution_count": null,
   "id": "00e26b8c",
   "metadata": {},
   "outputs": [],
   "source": []
  },
  {
   "cell_type": "markdown",
   "id": "8802ba30",
   "metadata": {},
   "source": [
    "### Q. 13) Find all the instances where: Category is 'Movie' and Type is 'Dramas' or Category is 'TV Show' & Type is 'Kids' TV'."
   ]
  },
  {
   "cell_type": "code",
   "execution_count": null,
   "id": "de0fbfa3",
   "metadata": {},
   "outputs": [],
   "source": []
  }
 ],
 "metadata": {
  "kernelspec": {
   "display_name": "venv3.7.10",
   "language": "python",
   "name": "venv3.7.10"
  },
  "language_info": {
   "codemirror_mode": {
    "name": "ipython",
    "version": 3
   },
   "file_extension": ".py",
   "mimetype": "text/x-python",
   "name": "python",
   "nbconvert_exporter": "python",
   "pygments_lexer": "ipython3",
   "version": "3.7.10"
  }
 },
 "nbformat": 4,
 "nbformat_minor": 5
}
