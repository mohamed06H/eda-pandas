{
 "cells": [
  {
   "cell_type": "markdown",
   "id": "91cd6687",
   "metadata": {},
   "source": [
    "## The Cars Dataset\n",
    "\n",
    "Data of different cars is given with their specifications.\n",
    "\n",
    "We will analyze this dataset using Pandas dataframe.\n"
   ]
  },
  {
   "cell_type": "markdown",
   "id": "3dd32b6c",
   "metadata": {},
   "source": [
    "Commands we'll use  \n",
    "\n",
    "* import pandas as pd -- To import Pandas library\n",
    "* pd.read_csv - To import the CSV file in Jupyter notebook\n",
    "* head() - It shows the first N rows in the data (by default, N=5)\n",
    "* tail() - It shows the last N rows in the data (by default, N=5)\n",
    "* shape - It shows the total no. of rows and no. of columns of the dataframe\n",
    "* df.isnull( ).sum( ) - It detects the missing values from each column of the dataframe.\n",
    "* fillna() - To fill the null values of a column with some particular value\n",
    "* value_counts - In a column, it shows all the unique values with their count. It can be applied to a single column only.\n",
    "* isin() - To show all records including particular elements\n",
    "* apply() - To apply a function along any axis of DF"
   ]
  },
  {
   "cell_type": "markdown",
   "id": "7e7a7a9b",
   "metadata": {},
   "source": [
    "## Read csv to dataframe\n"
   ]
  },
  {
   "cell_type": "code",
   "execution_count": 1,
   "id": "d6210198",
   "metadata": {
    "scrolled": true
   },
   "outputs": [],
   "source": [
    "import pandas as pd\n",
    "df = pd.read_csv(\"2. Cars Data1.csv\")"
   ]
  },
  {
   "cell_type": "markdown",
   "id": "dd51bb7f",
   "metadata": {},
   "source": [
    "### .head()\n",
    "It shows the first N rows in the data (by default, N=5)."
   ]
  },
  {
   "cell_type": "code",
   "execution_count": 2,
   "id": "40c385a6",
   "metadata": {},
   "outputs": [
    {
     "data": {
      "text/html": [
       "<div>\n",
       "<style scoped>\n",
       "    .dataframe tbody tr th:only-of-type {\n",
       "        vertical-align: middle;\n",
       "    }\n",
       "\n",
       "    .dataframe tbody tr th {\n",
       "        vertical-align: top;\n",
       "    }\n",
       "\n",
       "    .dataframe thead th {\n",
       "        text-align: right;\n",
       "    }\n",
       "</style>\n",
       "<table border=\"1\" class=\"dataframe\">\n",
       "  <thead>\n",
       "    <tr style=\"text-align: right;\">\n",
       "      <th></th>\n",
       "      <th>Make</th>\n",
       "      <th>Model</th>\n",
       "      <th>Type</th>\n",
       "      <th>Origin</th>\n",
       "      <th>DriveTrain</th>\n",
       "      <th>MSRP</th>\n",
       "      <th>Invoice</th>\n",
       "      <th>EngineSize</th>\n",
       "      <th>Cylinders</th>\n",
       "      <th>Horsepower</th>\n",
       "      <th>MPG_City</th>\n",
       "      <th>MPG_Highway</th>\n",
       "      <th>Weight</th>\n",
       "      <th>Wheelbase</th>\n",
       "      <th>Length</th>\n",
       "    </tr>\n",
       "  </thead>\n",
       "  <tbody>\n",
       "    <tr>\n",
       "      <th>0</th>\n",
       "      <td>Acura</td>\n",
       "      <td>MDX</td>\n",
       "      <td>SUV</td>\n",
       "      <td>Asia</td>\n",
       "      <td>All</td>\n",
       "      <td>$36,945</td>\n",
       "      <td>$33,337</td>\n",
       "      <td>3.5</td>\n",
       "      <td>6.0</td>\n",
       "      <td>265.0</td>\n",
       "      <td>17.0</td>\n",
       "      <td>23.0</td>\n",
       "      <td>4451.0</td>\n",
       "      <td>106.0</td>\n",
       "      <td>189.0</td>\n",
       "    </tr>\n",
       "    <tr>\n",
       "      <th>1</th>\n",
       "      <td>Acura</td>\n",
       "      <td>RSX Type S 2dr</td>\n",
       "      <td>Sedan</td>\n",
       "      <td>Asia</td>\n",
       "      <td>Front</td>\n",
       "      <td>$23,820</td>\n",
       "      <td>$21,761</td>\n",
       "      <td>2.0</td>\n",
       "      <td>4.0</td>\n",
       "      <td>200.0</td>\n",
       "      <td>24.0</td>\n",
       "      <td>31.0</td>\n",
       "      <td>2778.0</td>\n",
       "      <td>101.0</td>\n",
       "      <td>172.0</td>\n",
       "    </tr>\n",
       "    <tr>\n",
       "      <th>2</th>\n",
       "      <td>Acura</td>\n",
       "      <td>TSX 4dr</td>\n",
       "      <td>Sedan</td>\n",
       "      <td>Asia</td>\n",
       "      <td>Front</td>\n",
       "      <td>$26,990</td>\n",
       "      <td>$24,647</td>\n",
       "      <td>2.4</td>\n",
       "      <td>4.0</td>\n",
       "      <td>200.0</td>\n",
       "      <td>22.0</td>\n",
       "      <td>29.0</td>\n",
       "      <td>3230.0</td>\n",
       "      <td>105.0</td>\n",
       "      <td>183.0</td>\n",
       "    </tr>\n",
       "    <tr>\n",
       "      <th>3</th>\n",
       "      <td>Acura</td>\n",
       "      <td>TL 4dr</td>\n",
       "      <td>Sedan</td>\n",
       "      <td>Asia</td>\n",
       "      <td>Front</td>\n",
       "      <td>$33,195</td>\n",
       "      <td>$30,299</td>\n",
       "      <td>3.2</td>\n",
       "      <td>6.0</td>\n",
       "      <td>270.0</td>\n",
       "      <td>20.0</td>\n",
       "      <td>28.0</td>\n",
       "      <td>3575.0</td>\n",
       "      <td>108.0</td>\n",
       "      <td>186.0</td>\n",
       "    </tr>\n",
       "    <tr>\n",
       "      <th>4</th>\n",
       "      <td>Acura</td>\n",
       "      <td>3.5 RL 4dr</td>\n",
       "      <td>Sedan</td>\n",
       "      <td>Asia</td>\n",
       "      <td>Front</td>\n",
       "      <td>$43,755</td>\n",
       "      <td>$39,014</td>\n",
       "      <td>3.5</td>\n",
       "      <td>6.0</td>\n",
       "      <td>225.0</td>\n",
       "      <td>18.0</td>\n",
       "      <td>24.0</td>\n",
       "      <td>3880.0</td>\n",
       "      <td>115.0</td>\n",
       "      <td>197.0</td>\n",
       "    </tr>\n",
       "  </tbody>\n",
       "</table>\n",
       "</div>"
      ],
      "text/plain": [
       "    Make           Model   Type Origin DriveTrain      MSRP   Invoice  \\\n",
       "0  Acura             MDX    SUV   Asia        All  $36,945   $33,337    \n",
       "1  Acura  RSX Type S 2dr  Sedan   Asia      Front  $23,820   $21,761    \n",
       "2  Acura         TSX 4dr  Sedan   Asia      Front  $26,990   $24,647    \n",
       "3  Acura          TL 4dr  Sedan   Asia      Front  $33,195   $30,299    \n",
       "4  Acura      3.5 RL 4dr  Sedan   Asia      Front  $43,755   $39,014    \n",
       "\n",
       "   EngineSize  Cylinders  Horsepower  MPG_City  MPG_Highway  Weight  \\\n",
       "0         3.5        6.0       265.0      17.0         23.0  4451.0   \n",
       "1         2.0        4.0       200.0      24.0         31.0  2778.0   \n",
       "2         2.4        4.0       200.0      22.0         29.0  3230.0   \n",
       "3         3.2        6.0       270.0      20.0         28.0  3575.0   \n",
       "4         3.5        6.0       225.0      18.0         24.0  3880.0   \n",
       "\n",
       "   Wheelbase  Length  \n",
       "0      106.0   189.0  \n",
       "1      101.0   172.0  \n",
       "2      105.0   183.0  \n",
       "3      108.0   186.0  \n",
       "4      115.0   197.0  "
      ]
     },
     "execution_count": 2,
     "metadata": {},
     "output_type": "execute_result"
    }
   ],
   "source": [
    "df.head()"
   ]
  },
  {
   "cell_type": "markdown",
   "id": "255771b6",
   "metadata": {},
   "source": [
    "### .tail()\n",
    "It shows the last N rows in the data (by default, N=5)."
   ]
  },
  {
   "cell_type": "code",
   "execution_count": 3,
   "id": "a09d8d1e",
   "metadata": {},
   "outputs": [
    {
     "data": {
      "text/html": [
       "<div>\n",
       "<style scoped>\n",
       "    .dataframe tbody tr th:only-of-type {\n",
       "        vertical-align: middle;\n",
       "    }\n",
       "\n",
       "    .dataframe tbody tr th {\n",
       "        vertical-align: top;\n",
       "    }\n",
       "\n",
       "    .dataframe thead th {\n",
       "        text-align: right;\n",
       "    }\n",
       "</style>\n",
       "<table border=\"1\" class=\"dataframe\">\n",
       "  <thead>\n",
       "    <tr style=\"text-align: right;\">\n",
       "      <th></th>\n",
       "      <th>Make</th>\n",
       "      <th>Model</th>\n",
       "      <th>Type</th>\n",
       "      <th>Origin</th>\n",
       "      <th>DriveTrain</th>\n",
       "      <th>MSRP</th>\n",
       "      <th>Invoice</th>\n",
       "      <th>EngineSize</th>\n",
       "      <th>Cylinders</th>\n",
       "      <th>Horsepower</th>\n",
       "      <th>MPG_City</th>\n",
       "      <th>MPG_Highway</th>\n",
       "      <th>Weight</th>\n",
       "      <th>Wheelbase</th>\n",
       "      <th>Length</th>\n",
       "    </tr>\n",
       "  </thead>\n",
       "  <tbody>\n",
       "    <tr>\n",
       "      <th>427</th>\n",
       "      <td>Volvo</td>\n",
       "      <td>C70 LPT convertible 2dr</td>\n",
       "      <td>Sedan</td>\n",
       "      <td>Europe</td>\n",
       "      <td>Front</td>\n",
       "      <td>$40,565</td>\n",
       "      <td>$38,203</td>\n",
       "      <td>2.4</td>\n",
       "      <td>5.0</td>\n",
       "      <td>197.0</td>\n",
       "      <td>21.0</td>\n",
       "      <td>28.0</td>\n",
       "      <td>3450.0</td>\n",
       "      <td>105.0</td>\n",
       "      <td>186.0</td>\n",
       "    </tr>\n",
       "    <tr>\n",
       "      <th>428</th>\n",
       "      <td>Volvo</td>\n",
       "      <td>C70 HPT convertible 2dr</td>\n",
       "      <td>Sedan</td>\n",
       "      <td>Europe</td>\n",
       "      <td>Front</td>\n",
       "      <td>$42,565</td>\n",
       "      <td>$40,083</td>\n",
       "      <td>2.3</td>\n",
       "      <td>5.0</td>\n",
       "      <td>242.0</td>\n",
       "      <td>20.0</td>\n",
       "      <td>26.0</td>\n",
       "      <td>3450.0</td>\n",
       "      <td>105.0</td>\n",
       "      <td>186.0</td>\n",
       "    </tr>\n",
       "    <tr>\n",
       "      <th>429</th>\n",
       "      <td>Volvo</td>\n",
       "      <td>S80 T6 4dr</td>\n",
       "      <td>Sedan</td>\n",
       "      <td>Europe</td>\n",
       "      <td>Front</td>\n",
       "      <td>$45,210</td>\n",
       "      <td>$42,573</td>\n",
       "      <td>2.9</td>\n",
       "      <td>6.0</td>\n",
       "      <td>268.0</td>\n",
       "      <td>19.0</td>\n",
       "      <td>26.0</td>\n",
       "      <td>3653.0</td>\n",
       "      <td>110.0</td>\n",
       "      <td>190.0</td>\n",
       "    </tr>\n",
       "    <tr>\n",
       "      <th>430</th>\n",
       "      <td>Volvo</td>\n",
       "      <td>V40</td>\n",
       "      <td>Wagon</td>\n",
       "      <td>Europe</td>\n",
       "      <td>Front</td>\n",
       "      <td>$26,135</td>\n",
       "      <td>$24,641</td>\n",
       "      <td>1.9</td>\n",
       "      <td>4.0</td>\n",
       "      <td>170.0</td>\n",
       "      <td>22.0</td>\n",
       "      <td>29.0</td>\n",
       "      <td>2822.0</td>\n",
       "      <td>101.0</td>\n",
       "      <td>180.0</td>\n",
       "    </tr>\n",
       "    <tr>\n",
       "      <th>431</th>\n",
       "      <td>Volvo</td>\n",
       "      <td>XC70</td>\n",
       "      <td>Wagon</td>\n",
       "      <td>Europe</td>\n",
       "      <td>All</td>\n",
       "      <td>$35,145</td>\n",
       "      <td>$33,112</td>\n",
       "      <td>2.5</td>\n",
       "      <td>5.0</td>\n",
       "      <td>208.0</td>\n",
       "      <td>20.0</td>\n",
       "      <td>27.0</td>\n",
       "      <td>3823.0</td>\n",
       "      <td>109.0</td>\n",
       "      <td>186.0</td>\n",
       "    </tr>\n",
       "  </tbody>\n",
       "</table>\n",
       "</div>"
      ],
      "text/plain": [
       "      Make                    Model   Type  Origin DriveTrain      MSRP  \\\n",
       "427  Volvo  C70 LPT convertible 2dr  Sedan  Europe      Front  $40,565    \n",
       "428  Volvo  C70 HPT convertible 2dr  Sedan  Europe      Front  $42,565    \n",
       "429  Volvo               S80 T6 4dr  Sedan  Europe      Front  $45,210    \n",
       "430  Volvo                      V40  Wagon  Europe      Front  $26,135    \n",
       "431  Volvo                     XC70  Wagon  Europe        All  $35,145    \n",
       "\n",
       "      Invoice  EngineSize  Cylinders  Horsepower  MPG_City  MPG_Highway  \\\n",
       "427  $38,203          2.4        5.0       197.0      21.0         28.0   \n",
       "428  $40,083          2.3        5.0       242.0      20.0         26.0   \n",
       "429  $42,573          2.9        6.0       268.0      19.0         26.0   \n",
       "430  $24,641          1.9        4.0       170.0      22.0         29.0   \n",
       "431  $33,112          2.5        5.0       208.0      20.0         27.0   \n",
       "\n",
       "     Weight  Wheelbase  Length  \n",
       "427  3450.0      105.0   186.0  \n",
       "428  3450.0      105.0   186.0  \n",
       "429  3653.0      110.0   190.0  \n",
       "430  2822.0      101.0   180.0  \n",
       "431  3823.0      109.0   186.0  "
      ]
     },
     "execution_count": 3,
     "metadata": {},
     "output_type": "execute_result"
    }
   ],
   "source": [
    "df.tail()"
   ]
  },
  {
   "cell_type": "markdown",
   "id": "61534cb3",
   "metadata": {},
   "source": [
    "### .shape \n",
    "It shows the total no. of rows and no. of columns of the dataframe"
   ]
  },
  {
   "cell_type": "code",
   "execution_count": 4,
   "id": "226d1211",
   "metadata": {
    "scrolled": true
   },
   "outputs": [
    {
     "data": {
      "text/plain": [
       "(432, 15)"
      ]
     },
     "execution_count": 4,
     "metadata": {},
     "output_type": "execute_result"
    }
   ],
   "source": [
    "df.shape"
   ]
  },
  {
   "cell_type": "markdown",
   "id": "050a9592",
   "metadata": {},
   "source": [
    "### Q. 1) Instruction ( For Data Cleaning ) \n",
    " - Find all Null Values in the dataset. If there is any null value in any column, then fill it with the mean of that column. If there is only null values in a column drop it."
   ]
  },
  {
   "cell_type": "code",
   "execution_count": 5,
   "id": "81357285",
   "metadata": {},
   "outputs": [
    {
     "data": {
      "text/plain": [
       "Make           4\n",
       "Model          4\n",
       "Type           4\n",
       "Origin         4\n",
       "DriveTrain     4\n",
       "MSRP           4\n",
       "Invoice        4\n",
       "EngineSize     4\n",
       "Cylinders      6\n",
       "Horsepower     4\n",
       "MPG_City       4\n",
       "MPG_Highway    4\n",
       "Weight         4\n",
       "Wheelbase      4\n",
       "Length         4\n",
       "dtype: int64"
      ]
     },
     "execution_count": 5,
     "metadata": {},
     "output_type": "execute_result"
    }
   ],
   "source": [
    "df.isnull().sum()"
   ]
  },
  {
   "cell_type": "code",
   "execution_count": 14,
   "id": "3bc85605",
   "metadata": {
    "scrolled": true
   },
   "outputs": [
    {
     "data": {
      "text/html": [
       "<div>\n",
       "<style scoped>\n",
       "    .dataframe tbody tr th:only-of-type {\n",
       "        vertical-align: middle;\n",
       "    }\n",
       "\n",
       "    .dataframe tbody tr th {\n",
       "        vertical-align: top;\n",
       "    }\n",
       "\n",
       "    .dataframe thead th {\n",
       "        text-align: right;\n",
       "    }\n",
       "</style>\n",
       "<table border=\"1\" class=\"dataframe\">\n",
       "  <thead>\n",
       "    <tr style=\"text-align: right;\">\n",
       "      <th></th>\n",
       "      <th>Make</th>\n",
       "      <th>Model</th>\n",
       "      <th>Type</th>\n",
       "      <th>Origin</th>\n",
       "      <th>DriveTrain</th>\n",
       "      <th>MSRP</th>\n",
       "      <th>Invoice</th>\n",
       "      <th>EngineSize</th>\n",
       "      <th>Cylinders</th>\n",
       "      <th>Horsepower</th>\n",
       "      <th>MPG_City</th>\n",
       "      <th>MPG_Highway</th>\n",
       "      <th>Weight</th>\n",
       "      <th>Wheelbase</th>\n",
       "      <th>Length</th>\n",
       "    </tr>\n",
       "  </thead>\n",
       "  <tbody>\n",
       "  </tbody>\n",
       "</table>\n",
       "</div>"
      ],
      "text/plain": [
       "Empty DataFrame\n",
       "Columns: [Make, Model, Type, Origin, DriveTrain, MSRP, Invoice, EngineSize, Cylinders, Horsepower, MPG_City, MPG_Highway, Weight, Wheelbase, Length]\n",
       "Index: []"
      ]
     },
     "execution_count": 14,
     "metadata": {},
     "output_type": "execute_result"
    }
   ],
   "source": [
    "df[df['Make'].isnull()]"
   ]
  },
  {
   "cell_type": "code",
   "execution_count": 10,
   "id": "537be449",
   "metadata": {},
   "outputs": [
    {
     "data": {
      "text/plain": [
       "(428, 15)"
      ]
     },
     "execution_count": 10,
     "metadata": {},
     "output_type": "execute_result"
    }
   ],
   "source": [
    "# Solution 1: remove these 4 lines\n",
    "idx = df[df.Make.isnull()].index\n",
    "idx\n",
    "df = df.drop(idx)\n",
    "df.shape"
   ]
  },
  {
   "cell_type": "code",
   "execution_count": null,
   "id": "5efee1c7",
   "metadata": {
    "scrolled": true
   },
   "outputs": [],
   "source": [
    "#Solution 2: remove all lines where every value is missing\n",
    "df.dropna(how='all', inplace = True)\n",
    "df.shape"
   ]
  },
  {
   "cell_type": "code",
   "execution_count": 12,
   "id": "3a755920",
   "metadata": {},
   "outputs": [
    {
     "data": {
      "text/plain": [
       "Make           0\n",
       "Model          0\n",
       "Type           0\n",
       "Origin         0\n",
       "DriveTrain     0\n",
       "MSRP           0\n",
       "Invoice        0\n",
       "EngineSize     0\n",
       "Cylinders      2\n",
       "Horsepower     0\n",
       "MPG_City       0\n",
       "MPG_Highway    0\n",
       "Weight         0\n",
       "Wheelbase      0\n",
       "Length         0\n",
       "dtype: int64"
      ]
     },
     "execution_count": 12,
     "metadata": {},
     "output_type": "execute_result"
    }
   ],
   "source": [
    "df.isnull().sum()"
   ]
  },
  {
   "cell_type": "code",
   "execution_count": 11,
   "id": "b30e069b",
   "metadata": {},
   "outputs": [
    {
     "data": {
      "text/html": [
       "<div>\n",
       "<style scoped>\n",
       "    .dataframe tbody tr th:only-of-type {\n",
       "        vertical-align: middle;\n",
       "    }\n",
       "\n",
       "    .dataframe tbody tr th {\n",
       "        vertical-align: top;\n",
       "    }\n",
       "\n",
       "    .dataframe thead th {\n",
       "        text-align: right;\n",
       "    }\n",
       "</style>\n",
       "<table border=\"1\" class=\"dataframe\">\n",
       "  <thead>\n",
       "    <tr style=\"text-align: right;\">\n",
       "      <th></th>\n",
       "      <th>Make</th>\n",
       "      <th>Model</th>\n",
       "      <th>Type</th>\n",
       "      <th>Origin</th>\n",
       "      <th>DriveTrain</th>\n",
       "      <th>MSRP</th>\n",
       "      <th>Invoice</th>\n",
       "      <th>EngineSize</th>\n",
       "      <th>Cylinders</th>\n",
       "      <th>Horsepower</th>\n",
       "      <th>MPG_City</th>\n",
       "      <th>MPG_Highway</th>\n",
       "      <th>Weight</th>\n",
       "      <th>Wheelbase</th>\n",
       "      <th>Length</th>\n",
       "    </tr>\n",
       "  </thead>\n",
       "  <tbody>\n",
       "    <tr>\n",
       "      <th>251</th>\n",
       "      <td>Mazda</td>\n",
       "      <td>RX-8 4dr automatic</td>\n",
       "      <td>Sports</td>\n",
       "      <td>Asia</td>\n",
       "      <td>Rear</td>\n",
       "      <td>$25,700</td>\n",
       "      <td>$23,794</td>\n",
       "      <td>1.3</td>\n",
       "      <td>NaN</td>\n",
       "      <td>197.0</td>\n",
       "      <td>18.0</td>\n",
       "      <td>25.0</td>\n",
       "      <td>3053.0</td>\n",
       "      <td>106.0</td>\n",
       "      <td>174.0</td>\n",
       "    </tr>\n",
       "    <tr>\n",
       "      <th>252</th>\n",
       "      <td>Mazda</td>\n",
       "      <td>RX-8 4dr manual</td>\n",
       "      <td>Sports</td>\n",
       "      <td>Asia</td>\n",
       "      <td>Rear</td>\n",
       "      <td>$27,200</td>\n",
       "      <td>$25,179</td>\n",
       "      <td>1.3</td>\n",
       "      <td>NaN</td>\n",
       "      <td>238.0</td>\n",
       "      <td>18.0</td>\n",
       "      <td>24.0</td>\n",
       "      <td>3029.0</td>\n",
       "      <td>106.0</td>\n",
       "      <td>174.0</td>\n",
       "    </tr>\n",
       "  </tbody>\n",
       "</table>\n",
       "</div>"
      ],
      "text/plain": [
       "      Make               Model    Type Origin DriveTrain      MSRP   Invoice  \\\n",
       "251  Mazda  RX-8 4dr automatic  Sports   Asia       Rear  $25,700   $23,794    \n",
       "252  Mazda     RX-8 4dr manual  Sports   Asia       Rear  $27,200   $25,179    \n",
       "\n",
       "     EngineSize  Cylinders  Horsepower  MPG_City  MPG_Highway  Weight  \\\n",
       "251         1.3        NaN       197.0      18.0         25.0  3053.0   \n",
       "252         1.3        NaN       238.0      18.0         24.0  3029.0   \n",
       "\n",
       "     Wheelbase  Length  \n",
       "251      106.0   174.0  \n",
       "252      106.0   174.0  "
      ]
     },
     "execution_count": 11,
     "metadata": {},
     "output_type": "execute_result"
    }
   ],
   "source": [
    "# still these two lines have NaN values, replace it with mean\n",
    "df[df.Cylinders.isnull()]"
   ]
  },
  {
   "cell_type": "code",
   "execution_count": null,
   "id": "c0d56990",
   "metadata": {},
   "outputs": [],
   "source": [
    "df['Cylinders'].fillna(df['Cylinders'].mean())\n",
    "\n",
    "#apply the change by setting inplace param\n",
    "df['Cylinders'].fillna(df['Cylinders'].mean(), inplace = True)"
   ]
  },
  {
   "cell_type": "code",
   "execution_count": null,
   "id": "77953b6c",
   "metadata": {},
   "outputs": [],
   "source": [
    "df.isnull().sum()"
   ]
  },
  {
   "cell_type": "markdown",
   "id": "d04bcf18",
   "metadata": {},
   "source": [
    "### Q. 2) Question ( Based on Value Counts )\n",
    "- Check what are the different types of Make are there in our dataset. And, what is the count (occurrence) of each Make in the data ?\n"
   ]
  },
  {
   "cell_type": "code",
   "execution_count": 7,
   "id": "8856e72b",
   "metadata": {
    "scrolled": true
   },
   "outputs": [
    {
     "data": {
      "text/plain": [
       "array(['Acura', 'Audi', 'BMW', nan, 'Buick', 'Cadillac', 'Chevrolet',\n",
       "       'Chrysler', 'Dodge', 'Ford', 'GMC', 'Honda', 'Hummer', 'Hyundai',\n",
       "       'Infiniti', 'Isuzu', 'Jaguar', 'Jeep', 'Kia', 'Land Rover',\n",
       "       'Lexus', 'Lincoln', 'MINI', 'Mazda', 'Mercedes-Benz', 'Mercury',\n",
       "       'Mitsubishi', 'Nissan', 'Oldsmobile', 'Pontiac', 'Porsche', 'Saab',\n",
       "       'Saturn', 'Scion', 'Subaru', 'Suzuki', 'Toyota', 'Volkswagen',\n",
       "       'Volvo'], dtype=object)"
      ]
     },
     "execution_count": 7,
     "metadata": {},
     "output_type": "execute_result"
    }
   ],
   "source": [
    "df['Make'].unique()"
   ]
  },
  {
   "cell_type": "code",
   "execution_count": 8,
   "id": "84b354e2",
   "metadata": {},
   "outputs": [
    {
     "data": {
      "text/plain": [
       "Toyota           28\n",
       "Chevrolet        27\n",
       "Mercedes-Benz    26\n",
       "Ford             23\n",
       "BMW              20\n",
       "Audi             19\n",
       "Honda            17\n",
       "Nissan           17\n",
       "Volkswagen       15\n",
       "Chrysler         15\n",
       "Dodge            13\n",
       "Mitsubishi       13\n",
       "Volvo            12\n",
       "Jaguar           12\n",
       "Hyundai          12\n",
       "Subaru           11\n",
       "Pontiac          11\n",
       "Mazda            11\n",
       "Lexus            11\n",
       "Kia              11\n",
       "Buick             9\n",
       "Mercury           9\n",
       "Lincoln           9\n",
       "Saturn            8\n",
       "Cadillac          8\n",
       "Suzuki            8\n",
       "Infiniti          8\n",
       "GMC               8\n",
       "Acura             7\n",
       "Porsche           7\n",
       "Saab              7\n",
       "Land Rover        3\n",
       "Oldsmobile        3\n",
       "Jeep              3\n",
       "Scion             2\n",
       "Isuzu             2\n",
       "MINI              2\n",
       "Hummer            1\n",
       "Name: Make, dtype: int64"
      ]
     },
     "execution_count": 8,
     "metadata": {},
     "output_type": "execute_result"
    }
   ],
   "source": [
    "df['Make'].value_counts()"
   ]
  },
  {
   "cell_type": "markdown",
   "id": "af8c4075",
   "metadata": {},
   "source": [
    "### Q. 3) Instruction ( Filtering ) \n",
    "- Show all the records where Origin is Asia or Europe."
   ]
  },
  {
   "cell_type": "code",
   "execution_count": null,
   "id": "a0eb13d5",
   "metadata": {
    "scrolled": true
   },
   "outputs": [],
   "source": [
    "df.head(2)"
   ]
  },
  {
   "cell_type": "code",
   "execution_count": null,
   "id": "8086f922",
   "metadata": {},
   "outputs": [],
   "source": [
    "# we can do better than this \n",
    "#df[(df['Origin'] =='Asia') | (df['Origin'] =='Europe')]\n",
    "\n",
    "df[df['Origin'].isin(['Asia', 'Europe'])]"
   ]
  },
  {
   "cell_type": "markdown",
   "id": "021eb3e3",
   "metadata": {},
   "source": [
    "### Q. 4) Instruction ( Removing unwanted records ) \n",
    "- Remove all the records (rows) where Weight is above 4000."
   ]
  },
  {
   "cell_type": "code",
   "execution_count": null,
   "id": "a0e42658",
   "metadata": {},
   "outputs": [],
   "source": [
    "df = df[~(df['Weight']>4000)]"
   ]
  },
  {
   "cell_type": "markdown",
   "id": "33bf6b81",
   "metadata": {},
   "source": [
    "### Q. 5) Instruction ( Applying function on a column ) \n",
    "- Increase all the values of 'MPG_City' column by 3.\n"
   ]
  },
  {
   "cell_type": "code",
   "execution_count": null,
   "id": "8532f9a5",
   "metadata": {},
   "outputs": [],
   "source": [
    "df = df['MPG_City'].apply(lambda x:x+3)"
   ]
  }
 ],
 "metadata": {
  "kernelspec": {
   "display_name": "venv3.7.10",
   "language": "python",
   "name": "venv3.7.10"
  },
  "language_info": {
   "codemirror_mode": {
    "name": "ipython",
    "version": 3
   },
   "file_extension": ".py",
   "mimetype": "text/x-python",
   "name": "python",
   "nbconvert_exporter": "python",
   "pygments_lexer": "ipython3",
   "version": "3.7.10"
  }
 },
 "nbformat": 4,
 "nbformat_minor": 5
}
