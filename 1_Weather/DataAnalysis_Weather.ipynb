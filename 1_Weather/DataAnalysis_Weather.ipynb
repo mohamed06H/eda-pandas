{
 "cells": [
  {
   "cell_type": "markdown",
   "id": "91cd6687",
   "metadata": {},
   "source": [
    "## The Weather Dataset\n",
    "\n",
    "It is a time-series data set with per-hour information about the weather conditions at a particular location. It records Temperature, Dew point temperature, Relative humidity, Wind speed, Visibility, Pressure and Conditions.  \n",
    "\n",
    "We will analyze this dataset using Pandas dataframe. "
   ]
  },
  {
   "cell_type": "markdown",
   "id": "7e7a7a9b",
   "metadata": {},
   "source": [
    "## Read csv to dataframe\n"
   ]
  },
  {
   "cell_type": "code",
   "execution_count": null,
   "id": "d6210198",
   "metadata": {
    "scrolled": true
   },
   "outputs": [],
   "source": [
    "import pandas as pd\n",
    "data = pd.read_csv(\"1. Weather Data.csv\")"
   ]
  },
  {
   "cell_type": "markdown",
   "id": "42c642ef",
   "metadata": {},
   "source": [
    "## How to analyze dataframes  ?"
   ]
  },
  {
   "cell_type": "markdown",
   "id": "dd51bb7f",
   "metadata": {},
   "source": [
    "### .head()\n",
    "It shows the first N rows in the data (by default, N=5)."
   ]
  },
  {
   "cell_type": "code",
   "execution_count": null,
   "id": "40c385a6",
   "metadata": {},
   "outputs": [],
   "source": [
    "data.head()"
   ]
  },
  {
   "cell_type": "markdown",
   "id": "61534cb3",
   "metadata": {},
   "source": [
    "### .shape \n",
    "It shows the total no. of rows and no. of columns of the dataframe"
   ]
  },
  {
   "cell_type": "code",
   "execution_count": null,
   "id": "226d1211",
   "metadata": {},
   "outputs": [],
   "source": [
    "data.shape"
   ]
  },
  {
   "cell_type": "markdown",
   "id": "91390ab5",
   "metadata": {},
   "source": [
    " ### .index\n",
    "This attribute provides the index of the dataframe"
   ]
  },
  {
   "cell_type": "code",
   "execution_count": null,
   "id": "0f50f5b9",
   "metadata": {},
   "outputs": [],
   "source": [
    "data.index"
   ]
  },
  {
   "cell_type": "markdown",
   "id": "2715232d",
   "metadata": {},
   "source": [
    "### .columns\n",
    "It shows the name of each column"
   ]
  },
  {
   "cell_type": "code",
   "execution_count": null,
   "id": "b764dd20",
   "metadata": {},
   "outputs": [],
   "source": [
    "data.columns"
   ]
  },
  {
   "cell_type": "markdown",
   "id": "87ce7d89",
   "metadata": {},
   "source": [
    "### .dtypes\n",
    "It shows the data-type of each column"
   ]
  },
  {
   "cell_type": "code",
   "execution_count": null,
   "id": "19223c37",
   "metadata": {},
   "outputs": [],
   "source": [
    "data.dtypes"
   ]
  },
  {
   "cell_type": "markdown",
   "id": "3717b6ef",
   "metadata": {},
   "source": [
    "### .unique()\n",
    "In a column, it shows all the unique values. It can be applied on a single column only, not on the whole dataframe."
   ]
  },
  {
   "cell_type": "code",
   "execution_count": null,
   "id": "bb623a5f",
   "metadata": {},
   "outputs": [],
   "source": [
    "data[\"Weather\"].unique()"
   ]
  },
  {
   "cell_type": "markdown",
   "id": "2677fc3f",
   "metadata": {},
   "source": [
    "### .nunique()  \n",
    "It shows the total no. of unique values in each column. It can be applied on a single column as well as on the whole dataframe."
   ]
  },
  {
   "cell_type": "code",
   "execution_count": null,
   "id": "34a3d752",
   "metadata": {},
   "outputs": [],
   "source": [
    "data.nunique()"
   ]
  },
  {
   "cell_type": "markdown",
   "id": "2bc3afb8",
   "metadata": {},
   "source": [
    "### .count()\n",
    "It shows the total no. of non-null values in each column. It can be applied on a single column as well as on the whole dataframe."
   ]
  },
  {
   "cell_type": "code",
   "execution_count": null,
   "id": "968d2f06",
   "metadata": {},
   "outputs": [],
   "source": [
    "data.count()"
   ]
  },
  {
   "cell_type": "markdown",
   "id": "40d76499",
   "metadata": {},
   "source": [
    "### .value_counts()\n",
    "In a column, it shows all the unique values with their count. It can be applied on a single column only."
   ]
  },
  {
   "cell_type": "code",
   "execution_count": null,
   "id": "1d2da766",
   "metadata": {},
   "outputs": [],
   "source": [
    "data[\"Weather\"].value_counts()"
   ]
  },
  {
   "cell_type": "markdown",
   "id": "535bb4f6",
   "metadata": {},
   "source": [
    "### .info()\n",
    "Provides basic information about the dataframe."
   ]
  },
  {
   "cell_type": "code",
   "execution_count": null,
   "id": "871653ff",
   "metadata": {},
   "outputs": [],
   "source": [
    "data.info()"
   ]
  },
  {
   "cell_type": "markdown",
   "id": "050a9592",
   "metadata": {},
   "source": [
    "## Q. 1)  Find all the unique 'Wind Speed' values in the data."
   ]
  },
  {
   "cell_type": "code",
   "execution_count": null,
   "id": "3bc85605",
   "metadata": {},
   "outputs": [],
   "source": []
  },
  {
   "cell_type": "markdown",
   "id": "d04bcf18",
   "metadata": {},
   "source": [
    "## Q. 2) Find the number of times when the 'Weather is exactly Clear'.\n"
   ]
  },
  {
   "cell_type": "code",
   "execution_count": null,
   "id": "d4f230e2",
   "metadata": {},
   "outputs": [],
   "source": []
  },
  {
   "cell_type": "markdown",
   "id": "af8c4075",
   "metadata": {},
   "source": [
    "## Q. 3) Find the number of times when the 'Wind Speed was exactly 4 km/h'."
   ]
  },
  {
   "cell_type": "code",
   "execution_count": null,
   "id": "a0eb13d5",
   "metadata": {},
   "outputs": [],
   "source": []
  },
  {
   "cell_type": "markdown",
   "id": "021eb3e3",
   "metadata": {},
   "source": [
    "## Q. 4) Find out all the Null Values in the data."
   ]
  },
  {
   "cell_type": "code",
   "execution_count": null,
   "id": "a0e42658",
   "metadata": {},
   "outputs": [],
   "source": []
  },
  {
   "cell_type": "markdown",
   "id": "33bf6b81",
   "metadata": {},
   "source": [
    "## Q. 5) Rename the column name 'Weather' of the dataframe to 'Weather Condition'."
   ]
  },
  {
   "cell_type": "code",
   "execution_count": null,
   "id": "8532f9a5",
   "metadata": {},
   "outputs": [],
   "source": []
  },
  {
   "cell_type": "markdown",
   "id": "bfb3522e",
   "metadata": {},
   "source": [
    "## Q. 6) What is the mean 'Visibility' ?"
   ]
  },
  {
   "cell_type": "code",
   "execution_count": null,
   "id": "72a3816e",
   "metadata": {},
   "outputs": [],
   "source": []
  },
  {
   "cell_type": "markdown",
   "id": "934680d9",
   "metadata": {},
   "source": [
    "## Q. 7) What is the Standard Deviation of 'Pressure'  in this data?\n",
    "\n",
    "Pressure: PresskPa\n",
    "\n",
    "standard deviation : écart type σ = ∑ ( X − μ ) 2 n"
   ]
  },
  {
   "cell_type": "code",
   "execution_count": null,
   "id": "c0667cb1",
   "metadata": {},
   "outputs": [],
   "source": []
  },
  {
   "cell_type": "markdown",
   "id": "6f5745b2",
   "metadata": {},
   "source": [
    "## Q. 8) What is the Variance of 'Relative Humidity' in this data ?\n",
    "variance: σ2"
   ]
  },
  {
   "cell_type": "code",
   "execution_count": null,
   "id": "8f5178ad",
   "metadata": {},
   "outputs": [],
   "source": []
  },
  {
   "cell_type": "markdown",
   "id": "f474c6f8",
   "metadata": {},
   "source": [
    "## Q. 9) Find all instances when 'Snow' was recorded."
   ]
  },
  {
   "cell_type": "code",
   "execution_count": null,
   "id": "a86e6afe",
   "metadata": {},
   "outputs": [],
   "source": []
  },
  {
   "cell_type": "markdown",
   "id": "fd6c98fd",
   "metadata": {},
   "source": [
    "## Q. 10) Find all instances when 'Wind Speed is above 24' and 'Visibility is 25'."
   ]
  },
  {
   "cell_type": "code",
   "execution_count": null,
   "id": "d819628b",
   "metadata": {},
   "outputs": [],
   "source": []
  },
  {
   "cell_type": "markdown",
   "id": "dd51e20a",
   "metadata": {},
   "source": [
    "## Q. 11) What is the Mean value of each column against each 'Weather Condition ?"
   ]
  },
  {
   "cell_type": "code",
   "execution_count": null,
   "id": "e71f0e5b",
   "metadata": {},
   "outputs": [],
   "source": []
  },
  {
   "cell_type": "markdown",
   "id": "9b712f00",
   "metadata": {},
   "source": [
    "##  Q. 12) What is the Minimum & Maximum value of each column against each 'Weather Condition ?"
   ]
  },
  {
   "cell_type": "code",
   "execution_count": null,
   "id": "5bbaa86a",
   "metadata": {},
   "outputs": [],
   "source": []
  },
  {
   "cell_type": "markdown",
   "id": "3e5face1",
   "metadata": {},
   "source": [
    "## Q. 13) Show all the Records where Weather Condition is Fog."
   ]
  },
  {
   "cell_type": "code",
   "execution_count": null,
   "id": "e7bcb8e8",
   "metadata": {},
   "outputs": [],
   "source": []
  },
  {
   "cell_type": "markdown",
   "id": "e60861c9",
   "metadata": {},
   "source": [
    "## Q. 14) Find all instances when 'Weather is Clear' or 'Visibility is above 40'."
   ]
  },
  {
   "cell_type": "code",
   "execution_count": null,
   "id": "0d796a7a",
   "metadata": {},
   "outputs": [],
   "source": []
  },
  {
   "cell_type": "markdown",
   "id": "3c1c4193",
   "metadata": {},
   "source": [
    "## Q. 15) Find all instances when :\n",
    "### A. 'Weather is Clear' and 'Relative Humidity is greater than 50' or B. 'Visibility is above 40'"
   ]
  },
  {
   "cell_type": "code",
   "execution_count": null,
   "id": "985fdab6",
   "metadata": {},
   "outputs": [],
   "source": []
  }
 ],
 "metadata": {
  "kernelspec": {
   "display_name": "venv3.7.10",
   "language": "python",
   "name": "venv3.7.10"
  },
  "language_info": {
   "codemirror_mode": {
    "name": "ipython",
    "version": 3
   },
   "file_extension": ".py",
   "mimetype": "text/x-python",
   "name": "python",
   "nbconvert_exporter": "python",
   "pygments_lexer": "ipython3",
   "version": "3.7.10"
  }
 },
 "nbformat": 4,
 "nbformat_minor": 5
}
