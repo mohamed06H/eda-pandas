{
 "cells": [
  {
   "cell_type": "markdown",
   "id": "91cd6687",
   "metadata": {},
   "source": [
    "## Udemy courses Dataset\n",
    "\n",
    "The dataset is about udemy courses and subjects.\n",
    "\n",
    "We will analyze this dataset using Pandas dataframe.\n"
   ]
  },
  {
   "cell_type": "markdown",
   "id": "3dd32b6c",
   "metadata": {},
   "source": [
    "Commands we'll use  \n",
    "\n",
    "* import pandas as pd -- To import Pandas library.\n",
    "* pd.read_csv - To import the CSV file in Jupyter notebook.\n",
    "* head() - It shows the first N rows in the data (by default, N=5).\n",
    "* unique( ) - It shows the all unique values of the column.\n",
    "* value_counts - In a column, it shows all the unique values with their count. It can be applied to a single column only.\n",
    "* df[df.Col_1 = = ‘Element1’] - Filtering – We are accessing all records with Element1 only of Col_1.\n",
    "* df.sort_values(‘Col_name' ,  ascending=False ) - To sort the dataframe wrt any column values in descending order.\n",
    "* df[ (df.Col1 = = ‘Element1’) & (df.Col2 == ‘Element2’) ] - Multilevel filtering - And Filter – Filtering the data with two & more items.\n",
    "* str.contains('Value_to_match’) - To find the records that contains a particular string.\n",
    "* dtypes - To show datatypes of each column.\n",
    "* pd.to_datetime(df.Date_Time_Col) - To convert the data-type of Date-Time Column into datetime[ns] datatype.\n",
    "* dt.year - Creating a new column with only year values.\n",
    "* df.groupby(‘Col_1’)['Col_2'].max() - Using groupby with two different columns."
   ]
  },
  {
   "cell_type": "markdown",
   "id": "7e7a7a9b",
   "metadata": {},
   "source": [
    "## Read csv to dataframe\n"
   ]
  },
  {
   "cell_type": "code",
   "execution_count": null,
   "id": "d6210198",
   "metadata": {
    "scrolled": true
   },
   "outputs": [],
   "source": [
    "import pandas as pd\n",
    "df = pd.read_csv(\"7. Udemy Courses.csv\")"
   ]
  },
  {
   "cell_type": "code",
   "execution_count": null,
   "id": "40c385a6",
   "metadata": {},
   "outputs": [],
   "source": [
    "df.head()"
   ]
  },
  {
   "cell_type": "code",
   "execution_count": null,
   "id": "226d1211",
   "metadata": {
    "scrolled": true
   },
   "outputs": [],
   "source": [
    "df.shape"
   ]
  },
  {
   "cell_type": "code",
   "execution_count": null,
   "id": "a89661ef",
   "metadata": {},
   "outputs": [],
   "source": [
    "import seaborn as sns\n",
    "import matplotlib.pyplot as plt"
   ]
  },
  {
   "cell_type": "code",
   "execution_count": null,
   "id": "ff4f810c",
   "metadata": {
    "scrolled": true
   },
   "outputs": [],
   "source": [
    "sns.heatmap(df.isnull())\n",
    "plt.show()\n",
    "# another way to see null values "
   ]
  },
  {
   "cell_type": "code",
   "execution_count": null,
   "id": "9176051b",
   "metadata": {},
   "outputs": [],
   "source": [
    "df.isnull().sum()"
   ]
  },
  {
   "cell_type": "markdown",
   "id": "050a9592",
   "metadata": {},
   "source": [
    "### Q. 1) What are all different subjects for which Udemy is offering courses ?"
   ]
  },
  {
   "cell_type": "code",
   "execution_count": null,
   "id": "3bc85605",
   "metadata": {},
   "outputs": [],
   "source": []
  },
  {
   "cell_type": "markdown",
   "id": "d04bcf18",
   "metadata": {},
   "source": [
    "### Q. 2) Which subject has the maximum number of courses."
   ]
  },
  {
   "cell_type": "code",
   "execution_count": null,
   "id": "8856e72b",
   "metadata": {},
   "outputs": [],
   "source": []
  },
  {
   "cell_type": "markdown",
   "id": "af8c4075",
   "metadata": {},
   "source": [
    "### Q. 3) Show all the courses which are Free of Cost."
   ]
  },
  {
   "cell_type": "code",
   "execution_count": null,
   "id": "a0eb13d5",
   "metadata": {
    "scrolled": true
   },
   "outputs": [],
   "source": []
  },
  {
   "cell_type": "markdown",
   "id": "021eb3e3",
   "metadata": {},
   "source": [
    "### Q. 4) Show all the courses which are Paid."
   ]
  },
  {
   "cell_type": "code",
   "execution_count": null,
   "id": "a0e42658",
   "metadata": {},
   "outputs": [],
   "source": []
  },
  {
   "cell_type": "markdown",
   "id": "a0c45240",
   "metadata": {},
   "source": [
    "### Q. 5) Which are Top Selling Courses ?"
   ]
  },
  {
   "cell_type": "code",
   "execution_count": null,
   "id": "9339f04d",
   "metadata": {},
   "outputs": [],
   "source": []
  },
  {
   "cell_type": "markdown",
   "id": "33bf6b81",
   "metadata": {},
   "source": [
    "### Q. 6) Which are Least Selling Courses ?"
   ]
  },
  {
   "cell_type": "code",
   "execution_count": null,
   "id": "8532f9a5",
   "metadata": {},
   "outputs": [],
   "source": []
  },
  {
   "cell_type": "markdown",
   "id": "27a01955",
   "metadata": {},
   "source": [
    "### Q. 7) Show all courses of Graphic Design where the price is below 100 ?"
   ]
  },
  {
   "cell_type": "code",
   "execution_count": null,
   "id": "e69c8ba2",
   "metadata": {
    "scrolled": true
   },
   "outputs": [],
   "source": [
    " #df.price's type is not integer we can't compare it  to an int and it can also be Free "
   ]
  },
  {
   "cell_type": "code",
   "execution_count": null,
   "id": "374b58e7",
   "metadata": {},
   "outputs": [],
   "source": [
    "# replace Free by 0 and convert type to numeric "
   ]
  },
  {
   "cell_type": "code",
   "execution_count": null,
   "id": "51311018",
   "metadata": {},
   "outputs": [],
   "source": [
    "# filtering"
   ]
  },
  {
   "cell_type": "markdown",
   "id": "6d474f7f",
   "metadata": {},
   "source": [
    "### Q. 8) List out all the courses that are related to 'Python'."
   ]
  },
  {
   "cell_type": "code",
   "execution_count": null,
   "id": "343ed369",
   "metadata": {},
   "outputs": [],
   "source": []
  },
  {
   "cell_type": "markdown",
   "id": "696767a5",
   "metadata": {},
   "source": [
    "### Q. 9) What are courses that were published in the year 2015 ?"
   ]
  },
  {
   "cell_type": "code",
   "execution_count": null,
   "id": "326c4e73",
   "metadata": {},
   "outputs": [],
   "source": []
  },
  {
   "cell_type": "markdown",
   "id": "e101bcf5",
   "metadata": {},
   "source": [
    "### Q. 10) What is the Max. Number of Subscribers for Each Level of courses ?"
   ]
  },
  {
   "cell_type": "code",
   "execution_count": null,
   "id": "53ba9005",
   "metadata": {},
   "outputs": [],
   "source": []
  }
 ],
 "metadata": {
  "kernelspec": {
   "display_name": "venv3.7.10",
   "language": "python",
   "name": "venv3.7.10"
  },
  "language_info": {
   "codemirror_mode": {
    "name": "ipython",
    "version": 3
   },
   "file_extension": ".py",
   "mimetype": "text/x-python",
   "name": "python",
   "nbconvert_exporter": "python",
   "pygments_lexer": "ipython3",
   "version": "3.7.10"
  }
 },
 "nbformat": 4,
 "nbformat_minor": 5
}
