{
 "cells": [
  {
   "cell_type": "markdown",
   "id": "91cd6687",
   "metadata": {},
   "source": [
    "## London housing data\n",
    "\n",
    "The dataset is about the housing market of London, it coontains:\n",
    "* Monthly average house prices\n",
    "* Yearly number of houses sold\n",
    "* Monthly number of crimes committed\n",
    "\n",
    "We will analyze this dataset using Pandas dataframe.\n"
   ]
  },
  {
   "cell_type": "markdown",
   "id": "3dd32b6c",
   "metadata": {},
   "source": [
    "Commands we'll use  \n",
    "\n",
    "* import pandas as pd -- To import Pandas library\n",
    "* pd.read_csv - To import the CSV file in Jupyter notebook\n",
    "* df.count() - It counts the no. of non-null values of each column.\n",
    "* df.isnull().sum() - It detects the missing values from the dataframe.\n",
    "* import seaborn as sns - To import the Seaborn library.\n",
    "* import matplotlib.pyplot as plt - To import the Matplotlib library.\n",
    "* sns.heatmap(df.isnull()) - It will show the all columns & missing values in them in heat map form.\n",
    "* plt.show() - To show the plot.\n",
    "* df.dtypes - To show the datatype of each column.\n",
    "* pd.to_datetime(df.Date_Time_Col) - Converts the data-type of Date-Time Column into datetime[ns] datatype.\n",
    "* df.Time_Col.dt.year - Creating a new column with only year values\n",
    "* df.Time_Col.dt.month - Creating a new column with only month values.\n",
    "* df.insert( index , ‘new_column_name’, new_column_values) - To insert a New column at a particular position with values in it.\n",
    "* df.drop(['Col_name'] , axis=1 , inplace = True) - To drop a column from the dataframe permanently.\n",
    "* df.groupby(‘Col_name’) - To form groups of all unique values of the column.\n",
    "* df[df.Col_1 = = ‘Element1’] - Filtering – We are accessing all records with Element1 only of Col_1.\n",
    "* df.groupby(‘Col_1’)[‘Col_2’] .mean( ) - To create groups - Two Keys – Apply on Col_2 grouped by Col_1."
   ]
  },
  {
   "cell_type": "markdown",
   "id": "7e7a7a9b",
   "metadata": {},
   "source": [
    "## Read csv to dataframe\n"
   ]
  },
  {
   "cell_type": "code",
   "execution_count": null,
   "id": "d6210198",
   "metadata": {
    "scrolled": true
   },
   "outputs": [],
   "source": [
    "import pandas as pd\n",
    "df = pd.read_csv(\"5. London Housing Data.csv\")"
   ]
  },
  {
   "cell_type": "code",
   "execution_count": null,
   "id": "40c385a6",
   "metadata": {},
   "outputs": [],
   "source": [
    "df.head()"
   ]
  },
  {
   "cell_type": "code",
   "execution_count": null,
   "id": "226d1211",
   "metadata": {
    "scrolled": true
   },
   "outputs": [],
   "source": [
    "df.shape"
   ]
  },
  {
   "cell_type": "code",
   "execution_count": null,
   "id": "ab39cd52",
   "metadata": {
    "scrolled": true
   },
   "outputs": [],
   "source": [
    "df.isnull().sum()"
   ]
  },
  {
   "cell_type": "code",
   "execution_count": null,
   "id": "a89661ef",
   "metadata": {},
   "outputs": [],
   "source": [
    "import seaborn as sns\n",
    "import matplotlib.pyplot as plt"
   ]
  },
  {
   "cell_type": "code",
   "execution_count": null,
   "id": "ff4f810c",
   "metadata": {},
   "outputs": [],
   "source": [
    "sns.heatmap(df.isnull())\n",
    "plt.show()\n",
    "# another way to see null values "
   ]
  },
  {
   "cell_type": "markdown",
   "id": "050a9592",
   "metadata": {},
   "source": [
    "### Q. 1) Convert the Datatype of 'Date' column to Date-Time format."
   ]
  },
  {
   "cell_type": "code",
   "execution_count": null,
   "id": "3bc85605",
   "metadata": {},
   "outputs": [],
   "source": [
    "df.date = pd.to_datetime(df['date'])\n",
    "df.dtypes"
   ]
  },
  {
   "cell_type": "markdown",
   "id": "d04bcf18",
   "metadata": {},
   "source": [
    "### Q. 2) Add a new column ''year'' in the dataframe, which contains years only.\n",
    "### (B.2) Add a new column ''month'' as 2nd column in the dataframe, which contains month only."
   ]
  },
  {
   "cell_type": "code",
   "execution_count": null,
   "id": "8856e72b",
   "metadata": {},
   "outputs": [],
   "source": [
    "df['year'] = df.date.dt.year\n",
    "df"
   ]
  },
  {
   "cell_type": "code",
   "execution_count": null,
   "id": "d7970b45",
   "metadata": {},
   "outputs": [],
   "source": [
    "df.insert(1, 'month', df.date.dt.month)"
   ]
  },
  {
   "cell_type": "markdown",
   "id": "af8c4075",
   "metadata": {},
   "source": [
    "### Q. 3) Remove the columns 'year' and 'month' from the dataframe."
   ]
  },
  {
   "cell_type": "code",
   "execution_count": null,
   "id": "a0eb13d5",
   "metadata": {
    "scrolled": true
   },
   "outputs": [],
   "source": [
    "df.drop(['year','month'], axis=1, inplace=True)"
   ]
  },
  {
   "cell_type": "code",
   "execution_count": null,
   "id": "81bc5b94",
   "metadata": {},
   "outputs": [],
   "source": [
    "df.head(2)"
   ]
  },
  {
   "cell_type": "markdown",
   "id": "021eb3e3",
   "metadata": {},
   "source": [
    "### Q. 4) Show all the records where 'No. of Crimes' is 0. And, how many such records are there ?"
   ]
  },
  {
   "cell_type": "code",
   "execution_count": null,
   "id": "a0e42658",
   "metadata": {},
   "outputs": [],
   "source": [
    "len(df[df['no_of_crimes'] == 0])"
   ]
  },
  {
   "cell_type": "markdown",
   "id": "33bf6b81",
   "metadata": {},
   "source": [
    "### Q. 5) What is the maximum & minimum 'average_price' per year in england ?"
   ]
  },
  {
   "cell_type": "code",
   "execution_count": null,
   "id": "8532f9a5",
   "metadata": {},
   "outputs": [],
   "source": [
    "df1 = df[df.area=='england']\n",
    "df1.groupby('year').average_price.max()\n",
    "df1.groupby('year').average_price.min()"
   ]
  },
  {
   "cell_type": "markdown",
   "id": "27a01955",
   "metadata": {},
   "source": [
    "### Q. 6) What is the Maximum & Minimum No. of Crimes recorded per area ?"
   ]
  },
  {
   "cell_type": "code",
   "execution_count": null,
   "id": "e69c8ba2",
   "metadata": {},
   "outputs": [],
   "source": [
    "df.groupby('area').no_of_crimes.max()\n",
    "df.groupby('area').no_of_crimes.min()"
   ]
  },
  {
   "cell_type": "markdown",
   "id": "6d474f7f",
   "metadata": {},
   "source": [
    "### Q. 7) Show the total count of records of each area, where average price is less than 100000."
   ]
  },
  {
   "cell_type": "code",
   "execution_count": null,
   "id": "343ed369",
   "metadata": {},
   "outputs": [],
   "source": [
    "df[df.average_price < 100000].area.value_counts()"
   ]
  }
 ],
 "metadata": {
  "kernelspec": {
   "display_name": "venv3.7.10",
   "language": "python",
   "name": "venv3.7.10"
  },
  "language_info": {
   "codemirror_mode": {
    "name": "ipython",
    "version": 3
   },
   "file_extension": ".py",
   "mimetype": "text/x-python",
   "name": "python",
   "nbconvert_exporter": "python",
   "pygments_lexer": "ipython3",
   "version": "3.7.10"
  }
 },
 "nbformat": 4,
 "nbformat_minor": 5
}
